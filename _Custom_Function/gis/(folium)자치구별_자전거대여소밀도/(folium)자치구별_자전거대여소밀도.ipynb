{
 "cells": [
  {
   "cell_type": "code",
   "execution_count": 1,
   "id": "ee858166-11bc-4029-bb94-e17486b12f72",
   "metadata": {},
   "outputs": [],
   "source": [
    "import pandas as pd\n",
    "import numpy as np\n",
    "import json\n",
    "\n",
    "import folium"
   ]
  },
  {
   "cell_type": "code",
   "execution_count": 77,
   "id": "7cdc994f-dca9-46a9-94f4-053126439424",
   "metadata": {},
   "outputs": [],
   "source": [
    "# 나의 루트 경로 설정\n",
    "path_dateset = 'G:/내 드라이브/DataSet/'\n",
    "save_name = '(folium)자치구별_자전거대여소밀도'"
   ]
  },
  {
   "cell_type": "markdown",
   "id": "89c834d2-440b-4801-8541-3b36e735df6a",
   "metadata": {},
   "source": [
    "## 데이터 불러오기"
   ]
  },
  {
   "cell_type": "markdown",
   "id": "931f3cdf-d7f9-426c-961c-24b6950f6e74",
   "metadata": {},
   "source": [
    "### 자전거 대여소 정보"
   ]
  },
  {
   "cell_type": "code",
   "execution_count": 9,
   "id": "0ac41f8d-8727-4b07-8a75-9810654b5e0e",
   "metadata": {},
   "outputs": [
    {
     "data": {
      "text/html": [
       "<div>\n",
       "<style scoped>\n",
       "    .dataframe tbody tr th:only-of-type {\n",
       "        vertical-align: middle;\n",
       "    }\n",
       "\n",
       "    .dataframe tbody tr th {\n",
       "        vertical-align: top;\n",
       "    }\n",
       "\n",
       "    .dataframe thead th {\n",
       "        text-align: right;\n",
       "    }\n",
       "</style>\n",
       "<table border=\"1\" class=\"dataframe\">\n",
       "  <thead>\n",
       "    <tr style=\"text-align: right;\">\n",
       "      <th></th>\n",
       "      <th>대여소번호</th>\n",
       "      <th>대여소명</th>\n",
       "      <th>자치구</th>\n",
       "      <th>상세주소</th>\n",
       "      <th>위도</th>\n",
       "      <th>경도</th>\n",
       "      <th>설치시기</th>\n",
       "      <th>LCD</th>\n",
       "      <th>QR</th>\n",
       "      <th>운영방식</th>\n",
       "      <th>데이터등록월</th>\n",
       "      <th>대여소ID</th>\n",
       "      <th>거치대수</th>\n",
       "    </tr>\n",
       "  </thead>\n",
       "  <tbody>\n",
       "    <tr>\n",
       "      <th>0</th>\n",
       "      <td>06173</td>\n",
       "      <td>서울자동차운전전문학원</td>\n",
       "      <td>강서구</td>\n",
       "      <td>강서구 남부순환로 216</td>\n",
       "      <td>37.546135</td>\n",
       "      <td>126.821060</td>\n",
       "      <td>2024-03-18</td>\n",
       "      <td>NaN</td>\n",
       "      <td>10.0</td>\n",
       "      <td>QR</td>\n",
       "      <td>2024-06</td>\n",
       "      <td>ST-3284</td>\n",
       "      <td>NaN</td>\n",
       "    </tr>\n",
       "    <tr>\n",
       "      <th>1</th>\n",
       "      <td>02902</td>\n",
       "      <td>공릉풍림아파트 108동</td>\n",
       "      <td>노원구</td>\n",
       "      <td>서울특별시 노원구 섬밭로 139 공릉풍림아파트</td>\n",
       "      <td>37.628620</td>\n",
       "      <td>127.066910</td>\n",
       "      <td>2020-03-24</td>\n",
       "      <td>NaN</td>\n",
       "      <td>12.0</td>\n",
       "      <td>QR</td>\n",
       "      <td>2024-06</td>\n",
       "      <td>ST-2068</td>\n",
       "      <td>NaN</td>\n",
       "    </tr>\n",
       "    <tr>\n",
       "      <th>2</th>\n",
       "      <td>02912</td>\n",
       "      <td>대진고등학교</td>\n",
       "      <td>노원구</td>\n",
       "      <td>서울특별시 노원구 한글비석로 97</td>\n",
       "      <td>37.638157</td>\n",
       "      <td>127.073265</td>\n",
       "      <td>2020-03-23</td>\n",
       "      <td>NaN</td>\n",
       "      <td>20.0</td>\n",
       "      <td>QR</td>\n",
       "      <td>2024-06</td>\n",
       "      <td>ST-2078</td>\n",
       "      <td>NaN</td>\n",
       "    </tr>\n",
       "  </tbody>\n",
       "</table>\n",
       "</div>"
      ],
      "text/plain": [
       "   대여소번호          대여소명  자치구                       상세주소         위도          경도  \\\n",
       "0  06173   서울자동차운전전문학원  강서구              강서구 남부순환로 216  37.546135  126.821060   \n",
       "1  02902  공릉풍림아파트 108동  노원구  서울특별시 노원구 섬밭로 139 공릉풍림아파트  37.628620  127.066910   \n",
       "2  02912        대진고등학교  노원구         서울특별시 노원구 한글비석로 97  37.638157  127.073265   \n",
       "\n",
       "         설치시기  LCD    QR 운영방식   데이터등록월    대여소ID  거치대수  \n",
       "0  2024-03-18  NaN  10.0   QR  2024-06  ST-3284   NaN  \n",
       "1  2020-03-24  NaN  12.0   QR  2024-06  ST-2068   NaN  \n",
       "2  2020-03-23  NaN  20.0   QR  2024-06  ST-2078   NaN  "
      ]
     },
     "execution_count": 9,
     "metadata": {},
     "output_type": "execute_result"
    }
   ],
   "source": [
    "rental = pd.read_parquet(path_dateset + '_파킷 파일\\\\서울시 공공자전거 대여소 정보\\\\공공자전거 대여소 정보_통합본_최종.parquet')\n",
    "rental.head(3)"
   ]
  },
  {
   "cell_type": "code",
   "execution_count": 11,
   "id": "9a8dd109-64a2-48e7-8bb2-5870795a85a0",
   "metadata": {},
   "outputs": [
    {
     "data": {
      "text/html": [
       "<div>\n",
       "<style scoped>\n",
       "    .dataframe tbody tr th:only-of-type {\n",
       "        vertical-align: middle;\n",
       "    }\n",
       "\n",
       "    .dataframe tbody tr th {\n",
       "        vertical-align: top;\n",
       "    }\n",
       "\n",
       "    .dataframe thead th {\n",
       "        text-align: right;\n",
       "    }\n",
       "</style>\n",
       "<table border=\"1\" class=\"dataframe\">\n",
       "  <thead>\n",
       "    <tr style=\"text-align: right;\">\n",
       "      <th></th>\n",
       "      <th>대여소번호</th>\n",
       "      <th>대여소명</th>\n",
       "      <th>자치구</th>\n",
       "      <th>상세주소</th>\n",
       "      <th>위도</th>\n",
       "      <th>경도</th>\n",
       "      <th>설치시기</th>\n",
       "      <th>LCD</th>\n",
       "      <th>QR</th>\n",
       "      <th>운영방식</th>\n",
       "      <th>데이터등록월</th>\n",
       "      <th>대여소ID</th>\n",
       "      <th>거치대수</th>\n",
       "    </tr>\n",
       "  </thead>\n",
       "  <tbody>\n",
       "    <tr>\n",
       "      <th>2918</th>\n",
       "      <td>04205</td>\n",
       "      <td>디지털미디어씨티역2번출구</td>\n",
       "      <td>마포구</td>\n",
       "      <td>마포구 상암동 1171-1</td>\n",
       "      <td>NaN</td>\n",
       "      <td>NaN</td>\n",
       "      <td>2020-12-02</td>\n",
       "      <td>NaN</td>\n",
       "      <td>10.0</td>\n",
       "      <td>QR</td>\n",
       "      <td>2021-01</td>\n",
       "      <td>None</td>\n",
       "      <td>NaN</td>\n",
       "    </tr>\n",
       "  </tbody>\n",
       "</table>\n",
       "</div>"
      ],
      "text/plain": [
       "      대여소번호           대여소명  자치구            상세주소  위도  경도        설치시기  LCD  \\\n",
       "2918  04205  디지털미디어씨티역2번출구  마포구  마포구 상암동 1171-1 NaN NaN  2020-12-02  NaN   \n",
       "\n",
       "        QR 운영방식   데이터등록월 대여소ID  거치대수  \n",
       "2918  10.0   QR  2021-01  None   NaN  "
      ]
     },
     "execution_count": 11,
     "metadata": {},
     "output_type": "execute_result"
    }
   ],
   "source": [
    "rental[rental['위도'].isnull()]"
   ]
  },
  {
   "cell_type": "markdown",
   "id": "0c43c80f-58c7-4d62-bd40-c0176846c976",
   "metadata": {},
   "source": [
    "### 위도가 null 이 아닌것만 조회"
   ]
  },
  {
   "cell_type": "code",
   "execution_count": 15,
   "id": "7d626cd7-2ac4-4eef-94c3-8dace5094f46",
   "metadata": {},
   "outputs": [],
   "source": [
    "rental = rental[~rental['위도'].isnull()]"
   ]
  },
  {
   "cell_type": "markdown",
   "id": "f7d90c58-0d54-47cf-9ce4-ef75b37f16e7",
   "metadata": {},
   "source": [
    "### 자치구 정보(geojson 파일)"
   ]
  },
  {
   "cell_type": "code",
   "execution_count": 18,
   "id": "cf833aa3-7ac1-48b5-a902-ae9885eec97f",
   "metadata": {},
   "outputs": [],
   "source": [
    "geo_path = path_dateset + 'seoul_municipalities_geo_simple.json'\n",
    "# geo_str = json.load(open(geo_path, encoding='cp949'))\n",
    "# encoding을 UTF-8로 지정\n",
    "with open(geo_path, 'rt', encoding='utf-8') as f:\n",
    "    geo_str2 = json.load(f)"
   ]
  },
  {
   "cell_type": "markdown",
   "id": "4075a612-d60e-4e23-bf9c-a1c799213f6d",
   "metadata": {},
   "source": [
    "## 자치구별 밀도 구하기"
   ]
  },
  {
   "cell_type": "code",
   "execution_count": 195,
   "id": "db0d0299-2c3e-4096-862d-d075281d16e8",
   "metadata": {},
   "outputs": [],
   "source": [
    "Total_BikeRentals = rental.groupby('자치구').size()"
   ]
  },
  {
   "cell_type": "code",
   "execution_count": 197,
   "id": "c0a0e9eb-06f6-474d-9dab-f2296c9b7cab",
   "metadata": {},
   "outputs": [
    {
     "data": {
      "text/plain": [
       "자치구\n",
       "송파구     234\n",
       "강서구     207\n",
       "강남구     181\n",
       "영등포구    175\n",
       "노원구     161\n",
       "서초구     157\n",
       "마포구     131\n",
       "강동구     129\n",
       "구로구     118\n",
       "양천구     115\n",
       "종로구     109\n",
       "중랑구     103\n",
       "은평구     102\n",
       "중구      101\n",
       "성동구     101\n",
       "동대문구     96\n",
       "용산구      94\n",
       "광진구      92\n",
       "서대문구     88\n",
       "성북구      87\n",
       "관악구      81\n",
       "도봉구      80\n",
       "금천구      77\n",
       "동작구      76\n",
       "강북구      64\n",
       "dtype: int64"
      ]
     },
     "execution_count": 197,
     "metadata": {},
     "output_type": "execute_result"
    }
   ],
   "source": [
    "Total_BikeRentals.sort_values(ascending = False, inplace = True)\n",
    "Total_BikeRentals"
   ]
  },
  {
   "cell_type": "code",
   "execution_count": 209,
   "id": "a6cf76b1-42da-48f4-930a-e59159ad9dff",
   "metadata": {},
   "outputs": [
    {
     "data": {
      "text/plain": [
       "자치구\n",
       "송파구     7.91\n",
       "강서구     7.00\n",
       "강남구     6.12\n",
       "영등포구    5.91\n",
       "노원구     5.44\n",
       "서초구     5.31\n",
       "마포구     4.43\n",
       "강동구     4.36\n",
       "구로구     3.99\n",
       "양천구     3.89\n",
       "종로구     3.68\n",
       "중랑구     3.48\n",
       "은평구     3.45\n",
       "중구      3.41\n",
       "성동구     3.41\n",
       "동대문구    3.24\n",
       "용산구     3.18\n",
       "광진구     3.11\n",
       "서대문구    2.97\n",
       "성북구     2.94\n",
       "관악구     2.74\n",
       "도봉구     2.70\n",
       "금천구     2.60\n",
       "동작구     2.57\n",
       "강북구     2.16\n",
       "dtype: float64"
      ]
     },
     "execution_count": 209,
     "metadata": {},
     "output_type": "execute_result"
    }
   ],
   "source": [
    "# 전체 자전거 대여수 합계 계산\n",
    "total_bikes = Total_BikeRentals.sum()\n",
    "# 각 자치구의 대여수를 비율로 변환\n",
    "Per_BikeRentals = round((Total_BikeRentals / total_bikes) * 100, 2)\n",
    "Per_BikeRentals"
   ]
  },
  {
   "cell_type": "markdown",
   "id": "56f27735-e371-4919-8a33-1d4d571429e0",
   "metadata": {},
   "source": [
    "---\n",
    "### 지도에 자치구 이름 표시관련 - 위도/경도 정리"
   ]
  },
  {
   "cell_type": "code",
   "execution_count": 167,
   "id": "11bcdd28-77c9-41ec-a82c-bb4c6b36a520",
   "metadata": {},
   "outputs": [],
   "source": [
    "dic_gus = {\n",
    "    '송파구': [37.5046, 127.1187],\n",
    "    '강서구': [37.5642, 126.8255],\n",
    "    '강남구': [37.4915, 127.0624],\n",
    "    '영등포구': [37.5244, 126.9031],\n",
    "    '노원구': [37.6518, 127.0737],\n",
    "    '서초구': [37.4841, 127.0126],\n",
    "    '마포구': [37.5568, 126.9082],\n",
    "    '강동구': [37.5527, 127.1448],\n",
    "    '구로구': [37.4967, 126.8454],\n",
    "    '양천구': [37.5214, 126.8595],\n",
    "    '종로구': [37.5949, 126.9676],\n",
    "    '중랑구': [37.5971, 127.0912],\n",
    "    '은평구': [37.6205, 126.9257],\n",
    "    '중구': [37.5601, 126.9985],\n",
    "    '성동구': [37.5511, 127.0366],\n",
    "    '동대문구': [37.5840, 127.0514],\n",
    "    '용산구': [37.5348, 126.9793],\n",
    "    '광진구': [37.5484, 127.0854],\n",
    "    '서대문구': [37.5810, 126.9378],\n",
    "    '성북구': [37.6044, 127.0147],\n",
    "    '관악구': [37.4689, 126.9470],\n",
    "    '도봉구': [37.6716, 127.0322],\n",
    "    '금천구': [37.4640, 126.9020],\n",
    "    '동작구': [37.5048, 126.9508],\n",
    "    '강북구': [37.6382, 127.0116]\n",
    "}"
   ]
  },
  {
   "cell_type": "code",
   "execution_count": 169,
   "id": "03e12fa4-7a49-4fd8-a116-5959dfd62b11",
   "metadata": {},
   "outputs": [
    {
     "name": "stdout",
     "output_type": "stream",
     "text": [
      "송파구: [37.5046, 127.1187]\n",
      "강서구: [37.5642, 126.8255]\n",
      "강남구: [37.4915, 127.0624]\n",
      "영등포구: [37.5244, 126.9031]\n",
      "노원구: [37.6518, 127.0737]\n",
      "서초구: [37.4841, 127.0126]\n",
      "마포구: [37.5568, 126.9082]\n",
      "강동구: [37.5527, 127.1448]\n",
      "구로구: [37.4967, 126.8454]\n",
      "양천구: [37.5214, 126.8595]\n",
      "종로구: [37.5949, 126.9676]\n",
      "중랑구: [37.5971, 127.0912]\n",
      "은평구: [37.6205, 126.9257]\n",
      "중구: [37.5601, 126.9985]\n",
      "성동구: [37.5511, 127.0366]\n",
      "동대문구: [37.584, 127.0514]\n",
      "용산구: [37.5348, 126.9793]\n",
      "광진구: [37.5484, 127.0854]\n",
      "서대문구: [37.581, 126.9378]\n",
      "성북구: [37.6044, 127.0147]\n",
      "관악구: [37.4689, 126.947]\n",
      "도봉구: [37.6716, 127.0322]\n",
      "금천구: [37.464, 126.902]\n",
      "동작구: [37.5048, 126.9508]\n",
      "강북구: [37.6382, 127.0116]\n"
     ]
    }
   ],
   "source": [
    "for gu, location in dic_gus.items():\n",
    "    print(f'{gu}: {location}')"
   ]
  },
  {
   "cell_type": "code",
   "execution_count": 235,
   "id": "f18562b7-f480-4632-9378-3aadd1fb72b1",
   "metadata": {},
   "outputs": [
    {
     "data": {
      "text/plain": [
       "True"
      ]
     },
     "execution_count": 235,
     "metadata": {},
     "output_type": "execute_result"
    }
   ],
   "source": [
    "# 지도 생성\n",
    "# center = [37.541, 126.986]\n",
    "center = [37.5665, 126.9780]\n",
    "\n",
    "bike_map = folium.Map(location=center, zoom_start=13, tiles='openstreetmap', name='OpenStreetMap')\n",
    "\n",
    "# 자치구 구분 표\n",
    "geo_str2 = json.load(open('G:\\\\내 드라이브\\\\DataSet\\\\seoul_municipalities_geo_simple.json', encoding='utf-8'))\n",
    "choropleth = folium.Choropleth(geo_data = geo_str2,\n",
    "                  data = have_bikes,\n",
    "                  name = '구_구분',\n",
    "                  key_on = 'feature.properties.SIG_KOR_NM',\n",
    "                  fill_color = 'Blues',\n",
    "                  fill_opacity=0.7              # 채우기 불투명도\n",
    "                )\n",
    "# 1. GeoJsonTooltip을 사용하는 방법:\n",
    "# folium.GeoJsonTooltip(fields=['SIG_KOR_NM'],\n",
    "#                       aliases=['지역:'],\n",
    "#                       style=('background-color: white; color: #333333; font-family: arial; font-size: 12px; padding: 10px;')\n",
    "# ).add_to(choropleth.geojson)\n",
    "#2. GeoJsonPopup을 사용하는 방법:\n",
    "# folium.GeoJsonPopup(fields=['SIG_KOR_NM'],\n",
    "#                     aliases=['지역:'],\n",
    "#                     style='font-weight: bold;'\n",
    "# ).add_to(choropleth.geojson)\n",
    "\n",
    "# =================================================================\n",
    "# 각 구의 중심에 구 이름 표시\n",
    "fg1 = folium.FeatureGroup(name=\"구_이름\", show=True).add_to(bike_map)\n",
    "for _gu, _location in dic_gus.items():\n",
    "    folium.Marker(\n",
    "        location=_location,\n",
    "        popup=_gu,\n",
    "        name = '구_이름',\n",
    "        icon=folium.DivIcon(html=f\"<div style='font-size: 7pt; color: black; font-family: Arial; font-weight: bold;'>{_gu}</div>\")\n",
    "    ).add_to(fg1)\n",
    "# =================================================================\n",
    "# 각 구의 중심에, 자치구별 합계 표시\n",
    "fg2 = folium.FeatureGroup(name=\"합계\", show=True).add_to(bike_map)\n",
    "for idx, val in zip(Total_BikeRentals.index, Total_BikeRentals.values):\n",
    "    folium.Marker(\n",
    "        location=[dic_gus[idx][0] + 0.0055, dic_gus[idx][1]],\n",
    "        popup=val,\n",
    "        icon=folium.DivIcon(html=f\"<div style='font-size: 7pt; color: black; font-family: Arial; font-weight: bold;'>{val}</div>\")\n",
    "    ).add_to(fg2)\n",
    "# =================================================================\n",
    "# 각 구의 중심에, 자치구별 비율 표시\n",
    "fg3 = folium.FeatureGroup(name=\"비율\", show=True).add_to(bike_map)\n",
    "for idx, val in zip(Per_BikeRentals.index, Per_BikeRentals.values):\n",
    "    folium.Marker(\n",
    "        location=[dic_gus[idx][0] + 0.003, dic_gus[idx][1]],\n",
    "        popup=val,\n",
    "        icon=folium.DivIcon(html=f\"<div style='font-size: 7pt; color: black; font-family: Arial; font-weight: bold;'>{val}</div>\")\n",
    "    ).add_to(fg3)\n",
    "\n",
    "choropleth.add_to(bike_map)\n",
    "\n",
    "# 지도 클릭 시, 좌표(위도,경로) 팝업으로 표시\n",
    "folium.LatLngPopup().add_to(bike_map)\n",
    "\n",
    "#folium.TileLayer('openstreetmap', name='OpenStreetMap').add_to(bike_map)\n",
    "folium.TileLayer('cartodbpositron', name='CartoDB Positron').add_to(bike_map)\n",
    "folium.TileLayer('cartodbdark_matter', name='CartoDB Dark Matter').add_to(bike_map)\n",
    "#folium.TileLayer('stamentoner', name='Stamen Toner').add_to(bike_map)\n",
    "#folium.TileLayer('stamenterrain', name='Stamen Terrain').add_to(bike_map)\n",
    "#folium.TileLayer('stamenwatercolor', name='Stamen Watercolor').add_to(bike_map)\n",
    "#folium.TileLayer('MapQuest Open Aerial', name='MapQuest Aerial').add_to(bike_map)\n",
    "\n",
    "folium.LayerControl().add_to(bike_map)\n",
    "\n",
    "# jupyter 에서 곧장 지도 표시하기\n",
    "#bike_map\n",
    "\n",
    "# web에서 표시하기\n",
    "# 지도 저장\n",
    "bike_map.save(save_name + \".html\")\n",
    "import webbrowser\n",
    "webbrowser.open(save_name + \".html\")"
   ]
  },
  {
   "cell_type": "code",
   "execution_count": null,
   "id": "52fbe2af-3b17-447a-967b-aabf8e698bff",
   "metadata": {},
   "outputs": [],
   "source": []
  }
 ],
 "metadata": {
  "kernelspec": {
   "display_name": "Python 3 (ipykernel)",
   "language": "python",
   "name": "python3"
  },
  "language_info": {
   "codemirror_mode": {
    "name": "ipython",
    "version": 3
   },
   "file_extension": ".py",
   "mimetype": "text/x-python",
   "name": "python",
   "nbconvert_exporter": "python",
   "pygments_lexer": "ipython3",
   "version": "3.12.4"
  }
 },
 "nbformat": 4,
 "nbformat_minor": 5
}
