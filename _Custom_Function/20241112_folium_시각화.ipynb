{
 "cells": [
  {
   "cell_type": "markdown",
   "id": "27a04115-3043-4bb8-bcb9-d17d875ff9e6",
   "metadata": {},
   "source": [
    "### 기본 라이브러리 임포트"
   ]
  },
  {
   "cell_type": "code",
   "execution_count": 3,
   "id": "d09bee3e-fac8-43d6-8ae1-33f4ada3d6bc",
   "metadata": {},
   "outputs": [],
   "source": [
    "# 라이브러리 임포트\n",
    "import os\n",
    "import numpy as np\n",
    "import pandas as pd\n",
    "import chardet\n",
    "\n",
    "# 사용자 정의함수 경로 설정\n",
    "import sys\n",
    "sys.path.append(\"G:/내 드라이브/Source/_Custom_Function\")\n",
    "# 사용자 정의함수 불러오기\n",
    "\n",
    "import time\n",
    "\n",
    "import folium\n",
    "\n",
    "import ExcelFile_Merge as em\n",
    "import ExcelFile_Read as er\n",
    "import ExcelFile_EDA as ee\n",
    "\n",
    "import dataset_function as ds_f\n",
    "import folium_function as fl_f"
   ]
  },
  {
   "cell_type": "code",
   "execution_count": 4,
   "id": "46cc0dfb-8d0f-450e-a895-366a5b8af2b3",
   "metadata": {},
   "outputs": [],
   "source": [
    "# 나의 루트 경로 설정\n",
    "path_dateset = 'G:/내 드라이브/DataSet/'"
   ]
  },
  {
   "cell_type": "markdown",
   "id": "0f3c4dc6-9549-41c6-86f7-3d33f10a11c2",
   "metadata": {},
   "source": [
    "---\n",
    "### 기본 정보"
   ]
  },
  {
   "cell_type": "code",
   "execution_count": 6,
   "id": "e6017098-7997-4d6f-97b5-bbcf80b14aa2",
   "metadata": {},
   "outputs": [],
   "source": [
    "# 자전거 대여소 정보(통합)\n",
    "df_BikeRantalStation = ds_f.get_BikeRantalStation()\n",
    "\n",
    "# 지하철역 정보(통합)\n",
    "df_TrainStation = ds_f.get_TrainStation()"
   ]
  },
  {
   "cell_type": "markdown",
   "id": "716fec40-e7a9-4633-9edc-a43101925f46",
   "metadata": {},
   "source": [
    "---\n",
    "### 데이터 불러오기(자치구별 - 집계데이터)"
   ]
  },
  {
   "cell_type": "code",
   "execution_count": 8,
   "id": "820ae9bd-ce1b-49fc-be28-065c7cc27232",
   "metadata": {},
   "outputs": [
    {
     "name": "stdout",
     "output_type": "stream",
     "text": [
      "read_parquet time : 0.05831551551818848\n"
     ]
    }
   ],
   "source": [
    "start_time = time.time()\n",
    "\n",
    "# 자전거 이용량 - 연도별 자치구별 출퇴근 자전거 이용량 2018-2024(정비센터 제외).parquet\n",
    "# 자치구|출퇴근|이용건수|이용거리(M)|이용시간(분)|연도\n",
    "df_gu_BikeUse = ds_f.get_gu_BikeUse()\n",
    "\n",
    "# 자전거도로 - 연도별 자치구별 자전거도로 2019-2024(기준연도 +1).parquet\n",
    "# 연도|자치구|총계 연장(㎞)|총계 노선(개)|전용도로 연장(㎞)|전용도로 노선(개)|전용차로 연장(㎞)|전용차로 노선(개)|우선도로 연장(㎞)|우선도로 노선(개)|겸용도로(분리형) 연장(㎞)|겸용도로(분리형) 노선(개)|겸용도로(비분리형) 연장(㎞)|겸용도로(비분리형) 노선(개)\n",
    "df_gu_BikeRoad = ds_f.get_gu_BikeRoad()\n",
    "\n",
    "# 자전거 대여소 수 - 연도별 자치구별 대여소 및 거치대수 2020-2024(기준연도 +1).parquet\n",
    "# 연도|자치구|대여소|거치대\n",
    "df_gu_BikeRental = ds_f.get_gu_BikeRental()\n",
    "\n",
    "# 인구밀도 - 연도별 자치구별 인구밀도 2019-2023.parquet\n",
    "# 연도|자치구|인구(명)|면적(㎢)|인구밀도(명/㎢)\n",
    "df_gu_PeopleDensity = ds_f.get_gu_PeopleDensity()\n",
    "\n",
    "# 출/퇴근 인원 밀집도(유동인구) - 연도별 자치구별 출퇴근 이동인구 2020-2024.parquet\n",
    "# 연도|출퇴근|자치구|이동인구\n",
    "df_gu_PeopleMove = ds_f.get_gu_PeopleMove()\n",
    "\n",
    "# 연도별 자치구별 출퇴근 평균 이동인구 - 연도별 자치구별 출퇴근 평균 이동인구 2020-2024.parquet\n",
    "# 연도|출퇴근|자치구|이동인구\n",
    "df_gu_PeopleMove_Mean = ds_f.get_gu_PeopleMove_Mean()\n",
    "    \n",
    "# 지하철역 인근여부 - 연도별 자치구별 대여소-지하철역 최단거리 펑균 2021-2024(기준연도 +1).parquet\n",
    "# 연도|자치구|최단거리\n",
    "df_gu_NearTrainStatin = ds_f.get_gu_NearTrainStatin()\n",
    "\n",
    "# 차량통행속도 - 연도별 자치구별 평균 차량통행속도 2020-2024.parquet\n",
    "# 연도|출퇴근|자치구|평균속도\n",
    "df_gu_VehiSpeed = ds_f.get_gu_VehiSpeed()\n",
    "\n",
    "# 유가(기름 가격) - 연도별 자치구별 평균 유가 2021-2024.parquet\n",
    "# 연도|자치구|고급휘발유|보통휘발유|자동차용경유|실내등유\n",
    "df_gu_OilPrice = ds_f.get_gu_OilPrice()\n",
    "\n",
    "print(\"read_parquet time :\", time.time() - start_time)"
   ]
  },
  {
   "cell_type": "markdown",
   "id": "268a726a-af07-46b8-8418-570462dc1742",
   "metadata": {},
   "source": [
    "---\n",
    "## 각 데이터 별, 마지막 년도 데이터 가져오기"
   ]
  },
  {
   "cell_type": "code",
   "execution_count": 10,
   "id": "44852a33-85a4-4a33-bd39-ff314216703f",
   "metadata": {},
   "outputs": [],
   "source": [
    "df_gu_BikeRoad_2 = df_gu_BikeRoad[df_gu_BikeRoad['연도'] == 2024]\n",
    "df_gu_BikeRental_2 = df_gu_BikeRental[df_gu_BikeRental['연도'] == 2024]\n",
    "df_gu_PeopleDensity_2 = df_gu_PeopleDensity[df_gu_PeopleDensity['연도'] == 2023]\n",
    "df_gu_PeopleMove_2 = df_gu_PeopleMove[df_gu_PeopleMove['연도'] == '2024']\n",
    "df_gu_NearTrainStatin_2 = df_gu_NearTrainStatin[df_gu_NearTrainStatin['연도'] == 2024]\n",
    "df_gu_VehiSpeed_2 = df_gu_VehiSpeed[df_gu_VehiSpeed['연도'] == '2024']\n",
    "df_gu_OilPrice_2 = df_gu_OilPrice[df_gu_OilPrice['연도'] == 2024]"
   ]
  },
  {
   "cell_type": "code",
   "execution_count": 11,
   "id": "bb2b6abd-796e-486d-a0cc-8d3466288f7e",
   "metadata": {},
   "outputs": [
    {
     "data": {
      "text/html": [
       "<div>\n",
       "<style scoped>\n",
       "    .dataframe tbody tr th:only-of-type {\n",
       "        vertical-align: middle;\n",
       "    }\n",
       "\n",
       "    .dataframe tbody tr th {\n",
       "        vertical-align: top;\n",
       "    }\n",
       "\n",
       "    .dataframe thead th {\n",
       "        text-align: right;\n",
       "    }\n",
       "</style>\n",
       "<table border=\"1\" class=\"dataframe\">\n",
       "  <thead>\n",
       "    <tr style=\"text-align: right;\">\n",
       "      <th></th>\n",
       "      <th>연도</th>\n",
       "      <th>자치구</th>\n",
       "      <th>총계 연장(㎞)</th>\n",
       "      <th>총계 노선(개)</th>\n",
       "      <th>전용도로 연장(㎞)</th>\n",
       "      <th>전용도로 노선(개)</th>\n",
       "      <th>전용차로 연장(㎞)</th>\n",
       "      <th>전용차로 노선(개)</th>\n",
       "      <th>우선도로 연장(㎞)</th>\n",
       "      <th>우선도로 노선(개)</th>\n",
       "      <th>겸용도로(분리형) 연장(㎞)</th>\n",
       "      <th>겸용도로(분리형) 노선(개)</th>\n",
       "      <th>겸용도로(비분리형) 연장(㎞)</th>\n",
       "      <th>겸용도로(비분리형) 노선(개)</th>\n",
       "    </tr>\n",
       "  </thead>\n",
       "  <tbody>\n",
       "    <tr>\n",
       "      <th>125</th>\n",
       "      <td>2024</td>\n",
       "      <td>종로구</td>\n",
       "      <td>32.08</td>\n",
       "      <td>43</td>\n",
       "      <td>4.19</td>\n",
       "      <td>1</td>\n",
       "      <td>6.85</td>\n",
       "      <td>13</td>\n",
       "      <td>10.11</td>\n",
       "      <td>16</td>\n",
       "      <td>0.63</td>\n",
       "      <td>2</td>\n",
       "      <td>10.3</td>\n",
       "      <td>11</td>\n",
       "    </tr>\n",
       "    <tr>\n",
       "      <th>126</th>\n",
       "      <td>2024</td>\n",
       "      <td>중구</td>\n",
       "      <td>22.39</td>\n",
       "      <td>21</td>\n",
       "      <td>4.19</td>\n",
       "      <td>1</td>\n",
       "      <td>0.00</td>\n",
       "      <td>0</td>\n",
       "      <td>10.70</td>\n",
       "      <td>14</td>\n",
       "      <td>7.50</td>\n",
       "      <td>6</td>\n",
       "      <td>0.0</td>\n",
       "      <td>0</td>\n",
       "    </tr>\n",
       "  </tbody>\n",
       "</table>\n",
       "</div>"
      ],
      "text/plain": [
       "       연도  자치구  총계 연장(㎞)  총계 노선(개)  전용도로 연장(㎞)  전용도로 노선(개)  전용차로 연장(㎞)  \\\n",
       "125  2024  종로구     32.08        43        4.19           1        6.85   \n",
       "126  2024   중구     22.39        21        4.19           1        0.00   \n",
       "\n",
       "     전용차로 노선(개)  우선도로 연장(㎞)  우선도로 노선(개)  겸용도로(분리형) 연장(㎞)  겸용도로(분리형) 노선(개)  \\\n",
       "125          13       10.11          16             0.63                2   \n",
       "126           0       10.70          14             7.50                6   \n",
       "\n",
       "     겸용도로(비분리형) 연장(㎞)  겸용도로(비분리형) 노선(개)  \n",
       "125              10.3                11  \n",
       "126               0.0                 0  "
      ]
     },
     "execution_count": 11,
     "metadata": {},
     "output_type": "execute_result"
    }
   ],
   "source": [
    "df_gu_BikeRoad_2.head(2)"
   ]
  },
  {
   "cell_type": "markdown",
   "id": "85283482-c762-44ea-adc7-9aaa89f7225c",
   "metadata": {},
   "source": [
    "---\n",
    "## Folium 사용자정의함수 - 시각화"
   ]
  },
  {
   "cell_type": "code",
   "execution_count": 13,
   "id": "354f545e-9fe4-4a49-b726-47c056b42d60",
   "metadata": {},
   "outputs": [],
   "source": [
    "save_name = '(folium)커스텀_지도'"
   ]
  },
  {
   "cell_type": "code",
   "execution_count": 14,
   "id": "19191b40-e361-42a4-8c69-b38929461af2",
   "metadata": {},
   "outputs": [],
   "source": [
    "gu_1 = fl_f.gu_group(df_gu_BikeRoad_2[df_gu_BikeRoad_2['연도'] == 2024], '자치구', '총계 연장(㎞)')\n",
    "gu_2 = fl_f.gu_group(df_gu_BikeRoad_2[df_gu_BikeRoad_2['연도'] == 2024], '자치구', '총계 노선(개)')"
   ]
  },
  {
   "cell_type": "code",
   "execution_count": 16,
   "id": "a6f68bdb-87b4-4ef3-b2b0-d5b312bce06f",
   "metadata": {},
   "outputs": [
    {
     "data": {
      "text/html": [
       "<div>\n",
       "<style scoped>\n",
       "    .dataframe tbody tr th:only-of-type {\n",
       "        vertical-align: middle;\n",
       "    }\n",
       "\n",
       "    .dataframe tbody tr th {\n",
       "        vertical-align: top;\n",
       "    }\n",
       "\n",
       "    .dataframe thead th {\n",
       "        text-align: right;\n",
       "    }\n",
       "</style>\n",
       "<table border=\"1\" class=\"dataframe\">\n",
       "  <thead>\n",
       "    <tr style=\"text-align: right;\">\n",
       "      <th></th>\n",
       "      <th>대여소번호</th>\n",
       "      <th>대여소명</th>\n",
       "      <th>자치구</th>\n",
       "      <th>상세주소</th>\n",
       "      <th>위도</th>\n",
       "      <th>경도</th>\n",
       "      <th>설치시기</th>\n",
       "      <th>LCD</th>\n",
       "      <th>QR</th>\n",
       "      <th>운영방식</th>\n",
       "      <th>데이터등록월</th>\n",
       "      <th>대여소ID</th>\n",
       "      <th>거치대수</th>\n",
       "    </tr>\n",
       "  </thead>\n",
       "  <tbody>\n",
       "    <tr>\n",
       "      <th>0</th>\n",
       "      <td>06173</td>\n",
       "      <td>서울자동차운전전문학원</td>\n",
       "      <td>강서구</td>\n",
       "      <td>강서구 남부순환로 216</td>\n",
       "      <td>37.546135</td>\n",
       "      <td>126.821060</td>\n",
       "      <td>2024-03-18</td>\n",
       "      <td>NaN</td>\n",
       "      <td>10.0</td>\n",
       "      <td>QR</td>\n",
       "      <td>2024-06</td>\n",
       "      <td>ST-3284</td>\n",
       "      <td>NaN</td>\n",
       "    </tr>\n",
       "    <tr>\n",
       "      <th>1</th>\n",
       "      <td>02902</td>\n",
       "      <td>공릉풍림아파트 108동</td>\n",
       "      <td>노원구</td>\n",
       "      <td>서울특별시 노원구 섬밭로 139 공릉풍림아파트</td>\n",
       "      <td>37.628620</td>\n",
       "      <td>127.066910</td>\n",
       "      <td>2020-03-24</td>\n",
       "      <td>NaN</td>\n",
       "      <td>12.0</td>\n",
       "      <td>QR</td>\n",
       "      <td>2024-06</td>\n",
       "      <td>ST-2068</td>\n",
       "      <td>NaN</td>\n",
       "    </tr>\n",
       "    <tr>\n",
       "      <th>2</th>\n",
       "      <td>02912</td>\n",
       "      <td>대진고등학교</td>\n",
       "      <td>노원구</td>\n",
       "      <td>서울특별시 노원구 한글비석로 97</td>\n",
       "      <td>37.638157</td>\n",
       "      <td>127.073265</td>\n",
       "      <td>2020-03-23</td>\n",
       "      <td>NaN</td>\n",
       "      <td>20.0</td>\n",
       "      <td>QR</td>\n",
       "      <td>2024-06</td>\n",
       "      <td>ST-2078</td>\n",
       "      <td>NaN</td>\n",
       "    </tr>\n",
       "    <tr>\n",
       "      <th>3</th>\n",
       "      <td>02911</td>\n",
       "      <td>상계역중앙시장</td>\n",
       "      <td>노원구</td>\n",
       "      <td>서울특별시 노원구 한글비석로 389-2 가로판매대</td>\n",
       "      <td>37.658871</td>\n",
       "      <td>127.071915</td>\n",
       "      <td>2020-03-23</td>\n",
       "      <td>NaN</td>\n",
       "      <td>7.0</td>\n",
       "      <td>QR</td>\n",
       "      <td>2024-06</td>\n",
       "      <td>ST-2077</td>\n",
       "      <td>NaN</td>\n",
       "    </tr>\n",
       "    <tr>\n",
       "      <th>4</th>\n",
       "      <td>02910</td>\n",
       "      <td>도깨비시장</td>\n",
       "      <td>노원구</td>\n",
       "      <td>서울특별시 노원구 동일로 1028 한의학명가</td>\n",
       "      <td>37.621864</td>\n",
       "      <td>127.074051</td>\n",
       "      <td>2020-03-25</td>\n",
       "      <td>NaN</td>\n",
       "      <td>10.0</td>\n",
       "      <td>QR</td>\n",
       "      <td>2024-06</td>\n",
       "      <td>None</td>\n",
       "      <td>NaN</td>\n",
       "    </tr>\n",
       "  </tbody>\n",
       "</table>\n",
       "</div>"
      ],
      "text/plain": [
       "   대여소번호          대여소명  자치구                         상세주소         위도  \\\n",
       "0  06173   서울자동차운전전문학원  강서구                강서구 남부순환로 216  37.546135   \n",
       "1  02902  공릉풍림아파트 108동  노원구    서울특별시 노원구 섬밭로 139 공릉풍림아파트  37.628620   \n",
       "2  02912        대진고등학교  노원구           서울특별시 노원구 한글비석로 97  37.638157   \n",
       "3  02911       상계역중앙시장  노원구  서울특별시 노원구 한글비석로 389-2 가로판매대  37.658871   \n",
       "4  02910         도깨비시장  노원구     서울특별시 노원구 동일로 1028 한의학명가  37.621864   \n",
       "\n",
       "           경도        설치시기  LCD    QR 운영방식   데이터등록월    대여소ID  거치대수  \n",
       "0  126.821060  2024-03-18  NaN  10.0   QR  2024-06  ST-3284   NaN  \n",
       "1  127.066910  2020-03-24  NaN  12.0   QR  2024-06  ST-2068   NaN  \n",
       "2  127.073265  2020-03-23  NaN  20.0   QR  2024-06  ST-2078   NaN  \n",
       "3  127.071915  2020-03-23  NaN   7.0   QR  2024-06  ST-2077   NaN  \n",
       "4  127.074051  2020-03-25  NaN  10.0   QR  2024-06     None   NaN  "
      ]
     },
     "execution_count": 16,
     "metadata": {},
     "output_type": "execute_result"
    }
   ],
   "source": [
    "df_BikeRantalStation.head()"
   ]
  },
  {
   "cell_type": "code",
   "execution_count": 18,
   "id": "c2550a4b-b040-45a4-951e-b9f4c68a1f08",
   "metadata": {},
   "outputs": [],
   "source": [
    "_columns = ['대여소번호', '대여소명', '위도', '경도']\n",
    "df_BikeRantalStation = df_BikeRantalStation[_columns]"
   ]
  },
  {
   "cell_type": "code",
   "execution_count": 19,
   "id": "c38c775e-3938-49ae-8f37-775fef5234bc",
   "metadata": {},
   "outputs": [
    {
     "data": {
      "text/html": [
       "<div>\n",
       "<style scoped>\n",
       "    .dataframe tbody tr th:only-of-type {\n",
       "        vertical-align: middle;\n",
       "    }\n",
       "\n",
       "    .dataframe tbody tr th {\n",
       "        vertical-align: top;\n",
       "    }\n",
       "\n",
       "    .dataframe thead th {\n",
       "        text-align: right;\n",
       "    }\n",
       "</style>\n",
       "<table border=\"1\" class=\"dataframe\">\n",
       "  <thead>\n",
       "    <tr style=\"text-align: right;\">\n",
       "      <th></th>\n",
       "      <th>대여소번호</th>\n",
       "      <th>대여소명</th>\n",
       "      <th>위도</th>\n",
       "      <th>경도</th>\n",
       "    </tr>\n",
       "  </thead>\n",
       "  <tbody>\n",
       "    <tr>\n",
       "      <th>0</th>\n",
       "      <td>06173</td>\n",
       "      <td>서울자동차운전전문학원</td>\n",
       "      <td>37.546135</td>\n",
       "      <td>126.82106</td>\n",
       "    </tr>\n",
       "    <tr>\n",
       "      <th>1</th>\n",
       "      <td>02902</td>\n",
       "      <td>공릉풍림아파트 108동</td>\n",
       "      <td>37.628620</td>\n",
       "      <td>127.06691</td>\n",
       "    </tr>\n",
       "  </tbody>\n",
       "</table>\n",
       "</div>"
      ],
      "text/plain": [
       "   대여소번호          대여소명         위도         경도\n",
       "0  06173   서울자동차운전전문학원  37.546135  126.82106\n",
       "1  02902  공릉풍림아파트 108동  37.628620  127.06691"
      ]
     },
     "execution_count": 19,
     "metadata": {},
     "output_type": "execute_result"
    }
   ],
   "source": [
    "df_BikeRantalStation.head(2)"
   ]
  },
  {
   "cell_type": "code",
   "execution_count": 20,
   "id": "9fe89d92-ed51-4943-b092-f9a65148f8a6",
   "metadata": {},
   "outputs": [],
   "source": [
    "df_BikeRantalStation = df_BikeRantalStation.dropna()"
   ]
  },
  {
   "cell_type": "code",
   "execution_count": 21,
   "id": "669aaa36-deba-4fda-a11d-d7923b2f5f1a",
   "metadata": {},
   "outputs": [
    {
     "data": {
      "text/plain": [
       "대여소번호    0\n",
       "대여소명     0\n",
       "위도       0\n",
       "경도       0\n",
       "dtype: int64"
      ]
     },
     "execution_count": 21,
     "metadata": {},
     "output_type": "execute_result"
    }
   ],
   "source": [
    "df_BikeRantalStation.isnull().sum()"
   ]
  },
  {
   "cell_type": "code",
   "execution_count": 22,
   "id": "a1e8b6b8-55f0-4a0b-a011-03c5e4d8584e",
   "metadata": {},
   "outputs": [
    {
     "data": {
      "text/html": [
       "<div>\n",
       "<style scoped>\n",
       "    .dataframe tbody tr th:only-of-type {\n",
       "        vertical-align: middle;\n",
       "    }\n",
       "\n",
       "    .dataframe tbody tr th {\n",
       "        vertical-align: top;\n",
       "    }\n",
       "\n",
       "    .dataframe thead th {\n",
       "        text-align: right;\n",
       "    }\n",
       "</style>\n",
       "<table border=\"1\" class=\"dataframe\">\n",
       "  <thead>\n",
       "    <tr style=\"text-align: right;\">\n",
       "      <th></th>\n",
       "      <th>연번</th>\n",
       "      <th>역번호</th>\n",
       "      <th>호선</th>\n",
       "      <th>역명</th>\n",
       "      <th>역전화번호</th>\n",
       "      <th>도로명주소</th>\n",
       "      <th>지번주소</th>\n",
       "      <th>station_code</th>\n",
       "      <th>seoulmetro_code</th>\n",
       "      <th>external_code</th>\n",
       "      <th>station_name(kor)</th>\n",
       "      <th>lat</th>\n",
       "      <th>lng</th>\n",
       "    </tr>\n",
       "  </thead>\n",
       "  <tbody>\n",
       "    <tr>\n",
       "      <th>0</th>\n",
       "      <td>NaN</td>\n",
       "      <td>None</td>\n",
       "      <td>NaN</td>\n",
       "      <td>&lt;NA&gt;</td>\n",
       "      <td>&lt;NA&gt;</td>\n",
       "      <td>&lt;NA&gt;</td>\n",
       "      <td>&lt;NA&gt;</td>\n",
       "      <td>651.0</td>\n",
       "      <td>4703</td>\n",
       "      <td>943</td>\n",
       "      <td>419민주묘지</td>\n",
       "      <td>37.648235</td>\n",
       "      <td>127.008614</td>\n",
       "    </tr>\n",
       "    <tr>\n",
       "      <th>1</th>\n",
       "      <td>NaN</td>\n",
       "      <td>None</td>\n",
       "      <td>NaN</td>\n",
       "      <td>&lt;NA&gt;</td>\n",
       "      <td>&lt;NA&gt;</td>\n",
       "      <td>&lt;NA&gt;</td>\n",
       "      <td>&lt;NA&gt;</td>\n",
       "      <td>335.0</td>\n",
       "      <td>1907</td>\n",
       "      <td>109</td>\n",
       "      <td>가능</td>\n",
       "      <td>37.748577</td>\n",
       "      <td>127.044213</td>\n",
       "    </tr>\n",
       "  </tbody>\n",
       "</table>\n",
       "</div>"
      ],
      "text/plain": [
       "   연번   역번호  호선    역명 역전화번호 도로명주소  지번주소  station_code  seoulmetro_code  \\\n",
       "0 NaN  None NaN  <NA>  <NA>  <NA>  <NA>         651.0             4703   \n",
       "1 NaN  None NaN  <NA>  <NA>  <NA>  <NA>         335.0             1907   \n",
       "\n",
       "   external_code  station_name(kor)        lat         lng  \n",
       "0            943            419민주묘지  37.648235  127.008614  \n",
       "1            109                 가능  37.748577  127.044213  "
      ]
     },
     "execution_count": 22,
     "metadata": {},
     "output_type": "execute_result"
    }
   ],
   "source": [
    "df_TrainStation.head(2)"
   ]
  },
  {
   "cell_type": "code",
   "execution_count": 23,
   "id": "2c48dbcf-6e17-4b56-8591-82638848037b",
   "metadata": {},
   "outputs": [],
   "source": [
    "_columns = ['역번호', '역명', 'lat', 'lng']\n",
    "df_TrainStation = df_TrainStation[_columns]"
   ]
  },
  {
   "cell_type": "code",
   "execution_count": 24,
   "id": "08af7ec0-7767-4e74-a7ec-49d08e58f8c4",
   "metadata": {},
   "outputs": [
    {
     "data": {
      "text/plain": [
       "역번호    388\n",
       "역명     388\n",
       "lat      0\n",
       "lng      0\n",
       "dtype: int64"
      ]
     },
     "execution_count": 24,
     "metadata": {},
     "output_type": "execute_result"
    }
   ],
   "source": [
    "df_TrainStation.isnull().sum()"
   ]
  },
  {
   "cell_type": "code",
   "execution_count": 25,
   "id": "74a4796e-2c28-4071-925f-d97794e53343",
   "metadata": {},
   "outputs": [],
   "source": [
    "df_TrainStation = df_TrainStation.dropna(axis = 0)"
   ]
  },
  {
   "cell_type": "code",
   "execution_count": 26,
   "id": "4ebf5564-4c08-4ec2-b69f-c2d93e84d2f3",
   "metadata": {},
   "outputs": [],
   "source": [
    "df_TrainStation.rename(columns = {'lat':'위도', 'lng':'경도'}, inplace = True)"
   ]
  },
  {
   "cell_type": "code",
   "execution_count": 27,
   "id": "564dd002-e792-44b5-a38c-d20d7e4d7000",
   "metadata": {},
   "outputs": [
    {
     "data": {
      "text/html": [
       "<div>\n",
       "<style scoped>\n",
       "    .dataframe tbody tr th:only-of-type {\n",
       "        vertical-align: middle;\n",
       "    }\n",
       "\n",
       "    .dataframe tbody tr th {\n",
       "        vertical-align: top;\n",
       "    }\n",
       "\n",
       "    .dataframe thead th {\n",
       "        text-align: right;\n",
       "    }\n",
       "</style>\n",
       "<table border=\"1\" class=\"dataframe\">\n",
       "  <thead>\n",
       "    <tr style=\"text-align: right;\">\n",
       "      <th></th>\n",
       "      <th>역번호</th>\n",
       "      <th>역명</th>\n",
       "      <th>위도</th>\n",
       "      <th>경도</th>\n",
       "    </tr>\n",
       "  </thead>\n",
       "  <tbody>\n",
       "    <tr>\n",
       "      <th>2</th>\n",
       "      <td>340</td>\n",
       "      <td>가락시장</td>\n",
       "      <td>37.492522</td>\n",
       "      <td>127.118234</td>\n",
       "    </tr>\n",
       "    <tr>\n",
       "      <th>16</th>\n",
       "      <td>222</td>\n",
       "      <td>강남</td>\n",
       "      <td>37.497175</td>\n",
       "      <td>127.027926</td>\n",
       "    </tr>\n",
       "  </tbody>\n",
       "</table>\n",
       "</div>"
      ],
      "text/plain": [
       "    역번호    역명         위도          경도\n",
       "2   340  가락시장  37.492522  127.118234\n",
       "16  222    강남  37.497175  127.027926"
      ]
     },
     "execution_count": 27,
     "metadata": {},
     "output_type": "execute_result"
    }
   ],
   "source": [
    "df_TrainStation.head(2)"
   ]
  },
  {
   "cell_type": "code",
   "execution_count": 51,
   "id": "93a0138e-99c2-4980-bd99-91bda7c2e113",
   "metadata": {},
   "outputs": [
    {
     "name": "stderr",
     "output_type": "stream",
     "text": [
      "IOPub data rate exceeded.\n",
      "The Jupyter server will temporarily stop sending output\n",
      "to the client in order to avoid crashing it.\n",
      "To change this limit, set the config variable\n",
      "`--ServerApp.iopub_data_rate_limit`.\n",
      "\n",
      "Current values:\n",
      "ServerApp.iopub_data_rate_limit=1000000.0 (bytes/sec)\n",
      "ServerApp.rate_limit_window=3.0 (secs)\n",
      "\n"
     ]
    },
    {
     "data": {
      "text/plain": [
       "True"
      ]
     },
     "execution_count": 51,
     "metadata": {},
     "output_type": "execute_result"
    }
   ],
   "source": [
    "center = [37.5665, 126.9780]\n",
    "\n",
    "bike_map = folium.Map(location=center, zoom_start=12, tiles='openstreetmap', name='OpenStreetMap')\n",
    "\n",
    "# folium_gu_density : 자치구별 밀집도 표시\n",
    "choropleth1 = fl_f.folium_gu_density(fl_f.seoul_municipalities_geo_simple(), gu_1, '자전거도로_총계 연장(㎞)_밀집도', 'Blues', 0.7)\n",
    "choropleth1.add_to(bike_map)\n",
    "\n",
    "# folium_gu_density : 자치구별 밀집도 표시\n",
    "choropleth2 = fl_f.folium_gu_density(fl_f.seoul_municipalities_geo_simple(), gu_2, '자전거도로_총계 노선(개)_밀집도', 'Blues', 0.7)\n",
    "choropleth2.add_to(bike_map)\n",
    "\n",
    "# folium_CircleMarker : CircleMarker 표시하기\n",
    "fl_f.folium_CircleMarker(_data = df_BikeRantalStation, _name = '자전거대여소', _map = bike_map, _show = True, _radius = 2, \\\n",
    "                    _color = 'purple', _fill = True, _fill_color = 'purple', _fill_opacity = 0.6, _popup = '대여소번호', tooltip = '대여소명')\n",
    "\n",
    "# folium지도에 Circle 시각화\n",
    "fl_f.folium_Circle(_data = df_TrainStation, _name = '지하철역', _map = bike_map, _show = True, _radius = 100, \\\n",
    "                  _color = 'black', _fill = False, _fill_color = 'blue', _fill_opacity = 0.6, _popup = '역번호', tooltip = '역명')\n",
    "\n",
    "# folium지도에 자전거도로 시각화\n",
    "fl_f.folium_bike_load(_map = bike_map, _name = '자전거도로', _show = True)\n",
    "\n",
    "\n",
    "# folium_gu_display_sum : 자치구별 합계 - 글씨 표시\n",
    "fl_f.folium_gu_display_sum(gu_1, '자전거도로_총계 연장(㎞)_합계', bike_map, False)\n",
    "# folium_gu_display_sum : 자치구별 비율 - 글씨 표시\n",
    "fl_f.folium_gu_display_per(gu_1, '자전거도로_총계 연장(㎞)_비율', bike_map, False)\n",
    "# folium_gu_display_sum : 자치구별 순위 - 글씨 표시\n",
    "fl_f.folium_gu_display_rank(gu_1, '자전거도로_총계 연장(㎞)_랭크', bike_map, False)\n",
    "\n",
    "# folium_gu_name : 각 구의 중심에 구 이름 표시\n",
    "fl_f.folium_gu_name('구_이름', bike_map, False)\n",
    "\n",
    "#folium.TileLayer('openstreetmap', name='OpenStreetMap').add_to(bike_map)\n",
    "folium.TileLayer('cartodbpositron', name='CartoDB Positron').add_to(bike_map)\n",
    "folium.TileLayer('cartodbdark_matter', name='CartoDB Dark Matter').add_to(bike_map)\n",
    "\n",
    "folium.LayerControl().add_to(bike_map)\n",
    "\n",
    "# web에서 표시하기\n",
    "# 지도 저장\n",
    "bike_map.save(save_name + \".html\")\n",
    "import webbrowser\n",
    "webbrowser.open(save_name + \".html\")"
   ]
  }
 ],
 "metadata": {
  "kernelspec": {
   "display_name": "Python 3 (ipykernel)",
   "language": "python",
   "name": "python3"
  },
  "language_info": {
   "codemirror_mode": {
    "name": "ipython",
    "version": 3
   },
   "file_extension": ".py",
   "mimetype": "text/x-python",
   "name": "python",
   "nbconvert_exporter": "python",
   "pygments_lexer": "ipython3",
   "version": "3.12.4"
  }
 },
 "nbformat": 4,
 "nbformat_minor": 5
}
